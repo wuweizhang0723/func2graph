{
 "cells": [
  {
   "cell_type": "code",
   "execution_count": 1,
   "metadata": {},
   "outputs": [],
   "source": [
    "%load_ext autoreload\n",
    "%autoreload 2\n",
    "%matplotlib inline"
   ]
  },
  {
   "cell_type": "code",
   "execution_count": 11,
   "metadata": {},
   "outputs": [],
   "source": [
    "import pandas as pd\n",
    "import matplotlib.pyplot as plt\n",
    "import numpy as np"
   ]
  },
  {
   "cell_type": "code",
   "execution_count": 12,
   "metadata": {},
   "outputs": [],
   "source": [
    "weight_matrix = np.array([[ 1.9269e+00,  1.4873e+00,  9.0072e-01, -2.1055e+00,  6.7842e-01,\n",
    "         -1.2345e+00, -4.3067e-02, -1.6047e+00, -7.5214e-01,  1.6487e+00],\n",
    "        [-3.9248e-01, -1.4036e+00, -7.2788e-01, -5.5943e-01, -7.6884e-01,\n",
    "          7.6245e-01,  1.6423e+00, -1.5960e-01, -4.9740e-01,  4.3959e-01],\n",
    "        [-7.5813e-01,  1.0783e+00,  8.0080e-01,  1.6806e+00,  1.2791e+00,\n",
    "          1.2964e+00,  6.1047e-01,  1.3347e+00, -2.3162e-01,  4.1759e-02],\n",
    "        [-2.5158e-01,  8.5986e-01, -1.3847e+00, -8.7124e-01, -2.2337e-01,\n",
    "          1.7174e+00,  3.1888e-01, -4.2452e-01,  3.0572e-01, -7.7459e-01],\n",
    "        [-1.5576e+00,  9.9564e-01, -8.7979e-01, -6.0114e-01, -1.2742e+00,\n",
    "          2.1228e+00, -1.2347e+00, -4.8791e-01, -9.1382e-01, -6.5814e-01],\n",
    "        [ 7.8024e-02,  5.2581e-01, -4.8799e-01,  1.1914e+00, -8.1401e-01,\n",
    "         -7.3599e-01, -1.4032e+00,  3.6004e-02, -6.3477e-02,  6.7561e-01],\n",
    "        [-9.7807e-02,  1.8446e+00, -1.1845e+00,  1.3835e+00,  1.4451e+00,\n",
    "          8.5641e-01,  2.2181e+00,  5.2317e-01,  3.4665e-01, -1.9733e-01],\n",
    "        [-1.0546e+00,  1.2780e+00, -1.7219e-01,  5.2379e-01,  5.6622e-02,\n",
    "          4.2630e-01,  5.7501e-01, -6.4172e-01, -2.2064e+00, -7.5080e-01],\n",
    "        [ 1.0868e-02, -3.3874e-01, -1.3407e+00, -5.8537e-01,  6.4076e-01,\n",
    "          5.8325e-01,  1.0669e+00, -4.5015e-01, -6.7875e-01,  5.7432e-01],\n",
    "        [ 1.8775e-01, -3.5762e-01,  2.6491e-01,  1.2732e+00, -1.3109e-03,\n",
    "         -3.0360e-01, -9.8644e-01,  1.2330e-01,  3.4987e-01,  6.1728e-01]])"
   ]
  },
  {
   "cell_type": "code",
   "execution_count": 14,
   "metadata": {},
   "outputs": [
    {
     "data": {
      "image/png": "[encoded data removed]",
      "text/plain": [
       "<Figure size 640x480 with 2 Axes>"
      ]
     },
     "metadata": {},
     "output_type": "display_data"
    },
    {
     "name": "stdout",
     "output_type": "stream",
     "text": [
      "0.05755017639934918\n"
     ]
    }
   ],
   "source": [
    "attention_0_path = \"../../output/8_29_random_weight/Attention_Autoencoder_10_0.001_0.3_2_5_1.0_1.0_30000_42_random_20000_200_prediction_1_0_128_2_1_1_64_2_5e-05_lookup_table/Estimated_W_0.npy\"\n",
    "attention_1_path = \"../../output/8_29_random_weight/Attention_Autoencoder_10_0.001_0.3_2_5_1.0_1.0_30000_42_random_20000_200_prediction_1_1_128_2_1_1_64_2_5e-05_lookup_table/Estimated_W_1.npy\"\n",
    "attention_2_path = \"../../output/8_29_random_weight/Attention_Autoencoder_10_0.001_0.3_2_5_1.0_1.0_30000_42_random_20000_200_prediction_1_2_128_2_1_1_64_2_5e-05_lookup_table/Estimated_W_2.npy\"\n",
    "attention_3_path = \"../../output/8_29_random_weight/Attention_Autoencoder_10_0.001_0.3_2_5_1.0_1.0_30000_42_random_20000_200_prediction_1_3_128_2_1_1_64_2_5e-05_lookup_table/Estimated_W_3.npy\"\n",
    "\n",
    "attention_0 = np.load(attention_0_path)\n",
    "attention_1 = np.load(attention_1_path)\n",
    "attention_2 = np.load(attention_2_path)\n",
    "attention_3 = np.load(attention_3_path)\n",
    "\n",
    "# take avg\n",
    "attention_avg = (attention_0 + attention_1 + attention_2 + attention_3) / 4\n",
    "\n",
    "# plot\n",
    "plt.imshow(attention_avg)\n",
    "plt.colorbar()\n",
    "plt.show()\n",
    "\n",
    "# calculate correlation\n",
    "corr = np.corrcoef(weight_matrix.flatten(), attention_avg.flatten())[0, 1]\n",
    "print(corr)"
   ]
  }
 ],
 "metadata": {
  "kernelspec": {
   "display_name": "func2graph",
   "language": "python",
   "name": "python3"
  },
  "language_info": {
   "codemirror_mode": {
    "name": "ipython",
    "version": 3
   },
   "file_extension": ".py",
   "mimetype": "text/x-python",
   "name": "python",
   "nbconvert_exporter": "python",
   "pygments_lexer": "ipython3",
   "version": "3.9.16"
  },
  "orig_nbformat": 4
 },
 "nbformat": 4,
 "nbformat_minor": 2
}
