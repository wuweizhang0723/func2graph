{
 "cells": [
  {
   "cell_type": "code",
   "execution_count": 1,
   "metadata": {},
   "outputs": [],
   "source": [
    "%load_ext autoreload\n",
    "%autoreload 2\n",
    "%matplotlib inline  "
   ]
  },
  {
   "cell_type": "code",
   "execution_count": 2,
   "metadata": {},
   "outputs": [],
   "source": [
    "import pandas as pd\n",
    "import matplotlib.pyplot as plt\n",
    "import numpy as np\n",
    "import torch\n",
    "\n",
    "from func2graph import data, models, tools"
   ]
  },
  {
   "cell_type": "code",
   "execution_count": 3,
   "metadata": {},
   "outputs": [
    {
     "name": "stdout",
     "output_type": "stream",
     "text": [
      "torch.Size([10, 30000])\n"
     ]
    },
    {
     "data": {
      "image/png": "[encoded data removed]",
      "text/plain": [
       "<Figure size 640x480 with 2 Axes>"
      ]
     },
     "metadata": {},
     "output_type": "display_data"
    }
   ],
   "source": [
    "neuron_num = 10\n",
    "dt = 0.001\n",
    "tau = 0.3\n",
    "total_time = 30000\n",
    "\n",
    "spike_neuron_num = 2\n",
    "spike_input = 5\n",
    "\n",
    "train_data_size = 20000\n",
    "window_size = 200\n",
    "random_seed = 42\n",
    "batch_size = 32\n",
    "\n",
    "trainloader, validloader, weight_matrix = data.generate_simulation_data(\n",
    "    neuron_num=neuron_num,\n",
    "    dt=dt,\n",
    "    tau=tau,\n",
    "    total_time=total_time,\n",
    "    spike_neuron_num=spike_neuron_num,\n",
    "    spike_input=spike_input,\n",
    "    train_data_size=train_data_size,\n",
    "    window_size=window_size,\n",
    "    random_seed=random_seed,\n",
    "    batch_size=batch_size,\n",
    ")\n",
    "\n",
    "plt.imshow(weight_matrix.detach().numpy())\n",
    "plt.colorbar()\n",
    "plt.show()"
   ]
  },
  {
   "cell_type": "code",
   "execution_count": 4,
   "metadata": {},
   "outputs": [],
   "source": [
    "hidden_size_1=128\n",
    "h_layers_1=2\n",
    "heads=1\n",
    "attention_layers=1\n",
    "hidden_size_2=64\n",
    "h_layers_2=2\n",
    "learning_rate=1e-4\n",
    "\n",
    "predict_mode_model = models.Attention_Autoencoder(\n",
    "    neuron_num=neuron_num,\n",
    "    window_size=window_size,\n",
    "    hidden_size_1=hidden_size_1,\n",
    "    h_layers_1=h_layers_1,\n",
    "    heads=heads,\n",
    "    attention_layers=attention_layers,\n",
    "    hidden_size_2=hidden_size_2,\n",
    "    h_layers_2=h_layers_2,\n",
    "    learning_rate=learning_rate,\n",
    "    prediction_mode=True,     ########################\n",
    ")"
   ]
  },
  {
   "cell_type": "code",
   "execution_count": null,
   "metadata": {},
   "outputs": [],
   "source": [
    "checkpoint_path = \"func2graph/checkpoints/attention_autoencoder/epoch=199.ckpt\"\n",
    "predictions, attentions = tools.get_avg_attention(trainloader, predict_mode_model, checkpoint_path, neuron_num)"
   ]
  }
 ],
 "metadata": {
  "kernelspec": {
   "display_name": "func2graph",
   "language": "python",
   "name": "python3"
  },
  "language_info": {
   "codemirror_mode": {
    "name": "ipython",
    "version": 3
   },
   "file_extension": ".py",
   "mimetype": "text/x-python",
   "name": "python",
   "nbconvert_exporter": "python",
   "pygments_lexer": "ipython3",
   "version": "3.9.16"
  },
  "orig_nbformat": 4
 },
 "nbformat": 4,
 "nbformat_minor": 2
}
